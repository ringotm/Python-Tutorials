{
 "cells": [
  {
   "cell_type": "markdown",
   "metadata": {},
   "source": [
    "# **Finding and Removing Duplicate Data w/ Pandas**"
   ]
  },
  {
   "cell_type": "markdown",
   "metadata": {},
   "source": [
    "**In this tutorial, I'll show an example of identifying duplicated rows within a dataframe and how to remove those rows using Pandas.**"
   ]
  },
  {
   "cell_type": "code",
   "execution_count": 1,
   "metadata": {},
   "outputs": [],
   "source": [
    "import pandas as pd"
   ]
  },
  {
   "cell_type": "markdown",
   "metadata": {},
   "source": [
    "**We'll use data border crossing data released by the Bureau of Transportation Statistics. The dataset can be found on Kaggle.**"
   ]
  },
  {
   "cell_type": "code",
   "execution_count": 2,
   "metadata": {},
   "outputs": [],
   "source": [
    "file = \"../Border_Crossing_Project/Border_Crossing_Entry_Data.csv\""
   ]
  },
  {
   "cell_type": "code",
   "execution_count": 3,
   "metadata": {},
   "outputs": [
    {
     "data": {
      "text/html": [
       "<div>\n",
       "<style scoped>\n",
       "    .dataframe tbody tr th:only-of-type {\n",
       "        vertical-align: middle;\n",
       "    }\n",
       "\n",
       "    .dataframe tbody tr th {\n",
       "        vertical-align: top;\n",
       "    }\n",
       "\n",
       "    .dataframe thead th {\n",
       "        text-align: right;\n",
       "    }\n",
       "</style>\n",
       "<table border=\"1\" class=\"dataframe\">\n",
       "  <thead>\n",
       "    <tr style=\"text-align: right;\">\n",
       "      <th></th>\n",
       "      <th>Port Name</th>\n",
       "      <th>State</th>\n",
       "      <th>Port Code</th>\n",
       "      <th>Border</th>\n",
       "      <th>Date</th>\n",
       "      <th>Measure</th>\n",
       "      <th>Value</th>\n",
       "    </tr>\n",
       "  </thead>\n",
       "  <tbody>\n",
       "    <tr>\n",
       "      <th>0</th>\n",
       "      <td>Alcan</td>\n",
       "      <td>AK</td>\n",
       "      <td>3104</td>\n",
       "      <td>US-Canada Border</td>\n",
       "      <td>2020-02-01</td>\n",
       "      <td>Personal Vehicle Passengers</td>\n",
       "      <td>1414</td>\n",
       "    </tr>\n",
       "    <tr>\n",
       "      <th>1</th>\n",
       "      <td>Alcan</td>\n",
       "      <td>AK</td>\n",
       "      <td>3104</td>\n",
       "      <td>US-Canada Border</td>\n",
       "      <td>2020-02-01</td>\n",
       "      <td>Personal Vehicles</td>\n",
       "      <td>763</td>\n",
       "    </tr>\n",
       "    <tr>\n",
       "      <th>2</th>\n",
       "      <td>Alcan</td>\n",
       "      <td>AK</td>\n",
       "      <td>3104</td>\n",
       "      <td>US-Canada Border</td>\n",
       "      <td>2020-02-01</td>\n",
       "      <td>Truck Containers Empty</td>\n",
       "      <td>412</td>\n",
       "    </tr>\n",
       "    <tr>\n",
       "      <th>3</th>\n",
       "      <td>Alcan</td>\n",
       "      <td>AK</td>\n",
       "      <td>3104</td>\n",
       "      <td>US-Canada Border</td>\n",
       "      <td>2020-02-01</td>\n",
       "      <td>Truck Containers Full</td>\n",
       "      <td>122</td>\n",
       "    </tr>\n",
       "    <tr>\n",
       "      <th>4</th>\n",
       "      <td>Alcan</td>\n",
       "      <td>AK</td>\n",
       "      <td>3104</td>\n",
       "      <td>US-Canada Border</td>\n",
       "      <td>2020-02-01</td>\n",
       "      <td>Trucks</td>\n",
       "      <td>545</td>\n",
       "    </tr>\n",
       "  </tbody>\n",
       "</table>\n",
       "</div>"
      ],
      "text/plain": [
       "  Port Name State  Port Code            Border       Date  \\\n",
       "0     Alcan    AK       3104  US-Canada Border 2020-02-01   \n",
       "1     Alcan    AK       3104  US-Canada Border 2020-02-01   \n",
       "2     Alcan    AK       3104  US-Canada Border 2020-02-01   \n",
       "3     Alcan    AK       3104  US-Canada Border 2020-02-01   \n",
       "4     Alcan    AK       3104  US-Canada Border 2020-02-01   \n",
       "\n",
       "                       Measure  Value  \n",
       "0  Personal Vehicle Passengers   1414  \n",
       "1            Personal Vehicles    763  \n",
       "2       Truck Containers Empty    412  \n",
       "3        Truck Containers Full    122  \n",
       "4                       Trucks    545  "
      ]
     },
     "execution_count": 3,
     "metadata": {},
     "output_type": "execute_result"
    }
   ],
   "source": [
    "df = pd.read_csv(file, parse_dates=['Date'])\n",
    "df.head()"
   ]
  },
  {
   "cell_type": "code",
   "execution_count": 4,
   "metadata": {},
   "outputs": [
    {
     "data": {
      "text/plain": [
       "(355511, 7)"
      ]
     },
     "execution_count": 4,
     "metadata": {},
     "output_type": "execute_result"
    }
   ],
   "source": [
    "df.shape"
   ]
  },
  {
   "cell_type": "markdown",
   "metadata": {},
   "source": [
    "**After converting the csv to a pandas dataframe, we can use the \"duplicated\" method to return a boolean series that identifies any duplicated rows as True, or otherwise False.**"
   ]
  },
  {
   "cell_type": "code",
   "execution_count": 5,
   "metadata": {},
   "outputs": [
    {
     "data": {
      "text/plain": [
       "0         False\n",
       "1         False\n",
       "2         False\n",
       "3         False\n",
       "4         False\n",
       "          ...  \n",
       "355506    False\n",
       "355507    False\n",
       "355508    False\n",
       "355509    False\n",
       "355510    False\n",
       "Length: 355511, dtype: bool"
      ]
     },
     "execution_count": 5,
     "metadata": {},
     "output_type": "execute_result"
    }
   ],
   "source": [
    "df.duplicated()"
   ]
  },
  {
   "cell_type": "markdown",
   "metadata": {},
   "source": [
    "**Instead of just returning a series, we can add this as a column to the dataframe.**"
   ]
  },
  {
   "cell_type": "code",
   "execution_count": 6,
   "metadata": {},
   "outputs": [
    {
     "data": {
      "text/html": [
       "<div>\n",
       "<style scoped>\n",
       "    .dataframe tbody tr th:only-of-type {\n",
       "        vertical-align: middle;\n",
       "    }\n",
       "\n",
       "    .dataframe tbody tr th {\n",
       "        vertical-align: top;\n",
       "    }\n",
       "\n",
       "    .dataframe thead th {\n",
       "        text-align: right;\n",
       "    }\n",
       "</style>\n",
       "<table border=\"1\" class=\"dataframe\">\n",
       "  <thead>\n",
       "    <tr style=\"text-align: right;\">\n",
       "      <th></th>\n",
       "      <th>Port Name</th>\n",
       "      <th>State</th>\n",
       "      <th>Port Code</th>\n",
       "      <th>Border</th>\n",
       "      <th>Date</th>\n",
       "      <th>Measure</th>\n",
       "      <th>Value</th>\n",
       "      <th>duplicated</th>\n",
       "    </tr>\n",
       "  </thead>\n",
       "  <tbody>\n",
       "    <tr>\n",
       "      <th>0</th>\n",
       "      <td>Alcan</td>\n",
       "      <td>AK</td>\n",
       "      <td>3104</td>\n",
       "      <td>US-Canada Border</td>\n",
       "      <td>2020-02-01</td>\n",
       "      <td>Personal Vehicle Passengers</td>\n",
       "      <td>1414</td>\n",
       "      <td>False</td>\n",
       "    </tr>\n",
       "    <tr>\n",
       "      <th>1</th>\n",
       "      <td>Alcan</td>\n",
       "      <td>AK</td>\n",
       "      <td>3104</td>\n",
       "      <td>US-Canada Border</td>\n",
       "      <td>2020-02-01</td>\n",
       "      <td>Personal Vehicles</td>\n",
       "      <td>763</td>\n",
       "      <td>False</td>\n",
       "    </tr>\n",
       "    <tr>\n",
       "      <th>2</th>\n",
       "      <td>Alcan</td>\n",
       "      <td>AK</td>\n",
       "      <td>3104</td>\n",
       "      <td>US-Canada Border</td>\n",
       "      <td>2020-02-01</td>\n",
       "      <td>Truck Containers Empty</td>\n",
       "      <td>412</td>\n",
       "      <td>False</td>\n",
       "    </tr>\n",
       "    <tr>\n",
       "      <th>3</th>\n",
       "      <td>Alcan</td>\n",
       "      <td>AK</td>\n",
       "      <td>3104</td>\n",
       "      <td>US-Canada Border</td>\n",
       "      <td>2020-02-01</td>\n",
       "      <td>Truck Containers Full</td>\n",
       "      <td>122</td>\n",
       "      <td>False</td>\n",
       "    </tr>\n",
       "    <tr>\n",
       "      <th>4</th>\n",
       "      <td>Alcan</td>\n",
       "      <td>AK</td>\n",
       "      <td>3104</td>\n",
       "      <td>US-Canada Border</td>\n",
       "      <td>2020-02-01</td>\n",
       "      <td>Trucks</td>\n",
       "      <td>545</td>\n",
       "      <td>False</td>\n",
       "    </tr>\n",
       "  </tbody>\n",
       "</table>\n",
       "</div>"
      ],
      "text/plain": [
       "  Port Name State  Port Code            Border       Date  \\\n",
       "0     Alcan    AK       3104  US-Canada Border 2020-02-01   \n",
       "1     Alcan    AK       3104  US-Canada Border 2020-02-01   \n",
       "2     Alcan    AK       3104  US-Canada Border 2020-02-01   \n",
       "3     Alcan    AK       3104  US-Canada Border 2020-02-01   \n",
       "4     Alcan    AK       3104  US-Canada Border 2020-02-01   \n",
       "\n",
       "                       Measure  Value  duplicated  \n",
       "0  Personal Vehicle Passengers   1414       False  \n",
       "1            Personal Vehicles    763       False  \n",
       "2       Truck Containers Empty    412       False  \n",
       "3        Truck Containers Full    122       False  \n",
       "4                       Trucks    545       False  "
      ]
     },
     "execution_count": 6,
     "metadata": {},
     "output_type": "execute_result"
    }
   ],
   "source": [
    "df['duplicated'] = df.duplicated()\n",
    "df.head()"
   ]
  },
  {
   "cell_type": "markdown",
   "metadata": {},
   "source": [
    "**Here we return just the rows that were identified as duplicates.**"
   ]
  },
  {
   "cell_type": "code",
   "execution_count": 7,
   "metadata": {},
   "outputs": [
    {
     "data": {
      "text/html": [
       "<div>\n",
       "<style scoped>\n",
       "    .dataframe tbody tr th:only-of-type {\n",
       "        vertical-align: middle;\n",
       "    }\n",
       "\n",
       "    .dataframe tbody tr th {\n",
       "        vertical-align: top;\n",
       "    }\n",
       "\n",
       "    .dataframe thead th {\n",
       "        text-align: right;\n",
       "    }\n",
       "</style>\n",
       "<table border=\"1\" class=\"dataframe\">\n",
       "  <thead>\n",
       "    <tr style=\"text-align: right;\">\n",
       "      <th></th>\n",
       "      <th>Port Name</th>\n",
       "      <th>State</th>\n",
       "      <th>Port Code</th>\n",
       "      <th>Border</th>\n",
       "      <th>Date</th>\n",
       "      <th>Measure</th>\n",
       "      <th>Value</th>\n",
       "      <th>duplicated</th>\n",
       "    </tr>\n",
       "  </thead>\n",
       "  <tbody>\n",
       "    <tr>\n",
       "      <th>6590</th>\n",
       "      <td>Del Rio</td>\n",
       "      <td>TX</td>\n",
       "      <td>2302</td>\n",
       "      <td>US-Mexico Border</td>\n",
       "      <td>2019-06-01</td>\n",
       "      <td>Personal Vehicles</td>\n",
       "      <td>123068</td>\n",
       "      <td>True</td>\n",
       "    </tr>\n",
       "    <tr>\n",
       "      <th>6591</th>\n",
       "      <td>Del Rio</td>\n",
       "      <td>TX</td>\n",
       "      <td>2302</td>\n",
       "      <td>US-Mexico Border</td>\n",
       "      <td>2019-06-01</td>\n",
       "      <td>Personal Vehicle Passengers</td>\n",
       "      <td>238721</td>\n",
       "      <td>True</td>\n",
       "    </tr>\n",
       "    <tr>\n",
       "      <th>6977</th>\n",
       "      <td>Detroit</td>\n",
       "      <td>MI</td>\n",
       "      <td>3801</td>\n",
       "      <td>US-Canada Border</td>\n",
       "      <td>2019-06-01</td>\n",
       "      <td>Personal Vehicle Passengers</td>\n",
       "      <td>599521</td>\n",
       "      <td>True</td>\n",
       "    </tr>\n",
       "    <tr>\n",
       "      <th>7129</th>\n",
       "      <td>Santa Teresa</td>\n",
       "      <td>NM</td>\n",
       "      <td>2408</td>\n",
       "      <td>US-Mexico Border</td>\n",
       "      <td>2019-06-01</td>\n",
       "      <td>Personal Vehicles</td>\n",
       "      <td>50672</td>\n",
       "      <td>True</td>\n",
       "    </tr>\n",
       "    <tr>\n",
       "      <th>7130</th>\n",
       "      <td>Santa Teresa</td>\n",
       "      <td>NM</td>\n",
       "      <td>2408</td>\n",
       "      <td>US-Mexico Border</td>\n",
       "      <td>2019-06-01</td>\n",
       "      <td>Personal Vehicle Passengers</td>\n",
       "      <td>110576</td>\n",
       "      <td>True</td>\n",
       "    </tr>\n",
       "    <tr>\n",
       "      <th>7133</th>\n",
       "      <td>Roma</td>\n",
       "      <td>TX</td>\n",
       "      <td>2310</td>\n",
       "      <td>US-Mexico Border</td>\n",
       "      <td>2019-06-01</td>\n",
       "      <td>Personal Vehicles</td>\n",
       "      <td>54953</td>\n",
       "      <td>True</td>\n",
       "    </tr>\n",
       "    <tr>\n",
       "      <th>7134</th>\n",
       "      <td>Roma</td>\n",
       "      <td>TX</td>\n",
       "      <td>2310</td>\n",
       "      <td>US-Mexico Border</td>\n",
       "      <td>2019-06-01</td>\n",
       "      <td>Personal Vehicle Passengers</td>\n",
       "      <td>104640</td>\n",
       "      <td>True</td>\n",
       "    </tr>\n",
       "    <tr>\n",
       "      <th>7137</th>\n",
       "      <td>Fort Kent</td>\n",
       "      <td>ME</td>\n",
       "      <td>110</td>\n",
       "      <td>US-Canada Border</td>\n",
       "      <td>2019-06-01</td>\n",
       "      <td>Personal Vehicles</td>\n",
       "      <td>9615</td>\n",
       "      <td>True</td>\n",
       "    </tr>\n",
       "    <tr>\n",
       "      <th>7138</th>\n",
       "      <td>Fort Kent</td>\n",
       "      <td>ME</td>\n",
       "      <td>110</td>\n",
       "      <td>US-Canada Border</td>\n",
       "      <td>2019-06-01</td>\n",
       "      <td>Personal Vehicle Passengers</td>\n",
       "      <td>14056</td>\n",
       "      <td>True</td>\n",
       "    </tr>\n",
       "    <tr>\n",
       "      <th>7141</th>\n",
       "      <td>Detroit</td>\n",
       "      <td>MI</td>\n",
       "      <td>3801</td>\n",
       "      <td>US-Canada Border</td>\n",
       "      <td>2019-06-01</td>\n",
       "      <td>Personal Vehicles</td>\n",
       "      <td>351889</td>\n",
       "      <td>True</td>\n",
       "    </tr>\n",
       "  </tbody>\n",
       "</table>\n",
       "</div>"
      ],
      "text/plain": [
       "         Port Name State  Port Code            Border       Date  \\\n",
       "6590       Del Rio    TX       2302  US-Mexico Border 2019-06-01   \n",
       "6591       Del Rio    TX       2302  US-Mexico Border 2019-06-01   \n",
       "6977       Detroit    MI       3801  US-Canada Border 2019-06-01   \n",
       "7129  Santa Teresa    NM       2408  US-Mexico Border 2019-06-01   \n",
       "7130  Santa Teresa    NM       2408  US-Mexico Border 2019-06-01   \n",
       "7133          Roma    TX       2310  US-Mexico Border 2019-06-01   \n",
       "7134          Roma    TX       2310  US-Mexico Border 2019-06-01   \n",
       "7137     Fort Kent    ME        110  US-Canada Border 2019-06-01   \n",
       "7138     Fort Kent    ME        110  US-Canada Border 2019-06-01   \n",
       "7141       Detroit    MI       3801  US-Canada Border 2019-06-01   \n",
       "\n",
       "                          Measure   Value  duplicated  \n",
       "6590            Personal Vehicles  123068        True  \n",
       "6591  Personal Vehicle Passengers  238721        True  \n",
       "6977  Personal Vehicle Passengers  599521        True  \n",
       "7129            Personal Vehicles   50672        True  \n",
       "7130  Personal Vehicle Passengers  110576        True  \n",
       "7133            Personal Vehicles   54953        True  \n",
       "7134  Personal Vehicle Passengers  104640        True  \n",
       "7137            Personal Vehicles    9615        True  \n",
       "7138  Personal Vehicle Passengers   14056        True  \n",
       "7141            Personal Vehicles  351889        True  "
      ]
     },
     "execution_count": 7,
     "metadata": {},
     "output_type": "execute_result"
    }
   ],
   "source": [
    "df.loc[df['duplicated'] == True]"
   ]
  },
  {
   "cell_type": "markdown",
   "metadata": {},
   "source": [
    "**Let's look at an example of one of the duplicates to confirm that we are indeed identifying duplicate rows, but allowing us to keep one by labeling its duplicated value as False. Since we know the rows must be identical, let's search based on the 'Value' column since it is most likely a value in that column will be unique to the dataset. Here we'll search for the row(s) with a value of '123068', the first row in the duplicates table above.**"
   ]
  },
  {
   "cell_type": "code",
   "execution_count": 8,
   "metadata": {},
   "outputs": [
    {
     "data": {
      "text/html": [
       "<div>\n",
       "<style scoped>\n",
       "    .dataframe tbody tr th:only-of-type {\n",
       "        vertical-align: middle;\n",
       "    }\n",
       "\n",
       "    .dataframe tbody tr th {\n",
       "        vertical-align: top;\n",
       "    }\n",
       "\n",
       "    .dataframe thead th {\n",
       "        text-align: right;\n",
       "    }\n",
       "</style>\n",
       "<table border=\"1\" class=\"dataframe\">\n",
       "  <thead>\n",
       "    <tr style=\"text-align: right;\">\n",
       "      <th></th>\n",
       "      <th>Port Name</th>\n",
       "      <th>State</th>\n",
       "      <th>Port Code</th>\n",
       "      <th>Border</th>\n",
       "      <th>Date</th>\n",
       "      <th>Measure</th>\n",
       "      <th>Value</th>\n",
       "      <th>duplicated</th>\n",
       "    </tr>\n",
       "  </thead>\n",
       "  <tbody>\n",
       "    <tr>\n",
       "      <th>6362</th>\n",
       "      <td>Del Rio</td>\n",
       "      <td>TX</td>\n",
       "      <td>2302</td>\n",
       "      <td>US-Mexico Border</td>\n",
       "      <td>2019-06-01</td>\n",
       "      <td>Personal Vehicles</td>\n",
       "      <td>123068</td>\n",
       "      <td>False</td>\n",
       "    </tr>\n",
       "    <tr>\n",
       "      <th>6590</th>\n",
       "      <td>Del Rio</td>\n",
       "      <td>TX</td>\n",
       "      <td>2302</td>\n",
       "      <td>US-Mexico Border</td>\n",
       "      <td>2019-06-01</td>\n",
       "      <td>Personal Vehicles</td>\n",
       "      <td>123068</td>\n",
       "      <td>True</td>\n",
       "    </tr>\n",
       "  </tbody>\n",
       "</table>\n",
       "</div>"
      ],
      "text/plain": [
       "     Port Name State  Port Code            Border       Date  \\\n",
       "6362   Del Rio    TX       2302  US-Mexico Border 2019-06-01   \n",
       "6590   Del Rio    TX       2302  US-Mexico Border 2019-06-01   \n",
       "\n",
       "                Measure   Value  duplicated  \n",
       "6362  Personal Vehicles  123068       False  \n",
       "6590  Personal Vehicles  123068        True  "
      ]
     },
     "execution_count": 8,
     "metadata": {},
     "output_type": "execute_result"
    }
   ],
   "source": [
    "df.loc[df['Value'] == 123068]"
   ]
  },
  {
   "cell_type": "markdown",
   "metadata": {},
   "source": [
    "**As expected, there are duplicated rows w/ this value, in this case just one extra row. It's duplicated value is set to False so it can be retained during duplicate removal.**\n",
    "\n",
    "**The duplicated method has a parameter, 'keep', which can be used to modify which duplicated values are marked as True. The default is 'first', meaning all but the first occurence are marked as duplicates. Other options are 'last', to mark all but the last occurence as duplicates, and False, which will mark all occurences as duplicates.**"
   ]
  },
  {
   "cell_type": "markdown",
   "metadata": {},
   "source": [
    "\n",
    "\n",
    "\n",
    "**Now that we have identified that there are duplicates in our dataset, we can proceed w/ removing this data.**\n",
    "**Let's print the number of the rows of the original dataset along w/ the number of duplicated rows.**"
   ]
  },
  {
   "cell_type": "code",
   "execution_count": 9,
   "metadata": {},
   "outputs": [
    {
     "name": "stdout",
     "output_type": "stream",
     "text": [
      "The number of rows in the dataframe is: 355511\n",
      "The number of duplicated rows is: 10\n"
     ]
    }
   ],
   "source": [
    "print(f\"The number of rows in the dataframe is: {len(df)}\")\n",
    "print(f\"The number of duplicated rows is: {len(df.loc[df['duplicated'] == True])}\")"
   ]
  },
  {
   "cell_type": "markdown",
   "metadata": {},
   "source": [
    "**We see that there are 355,511 rows in the dataframe and 10 of those are duplicates so we expect the number of rows to be 355,501 after removing the duplicates.**"
   ]
  },
  {
   "cell_type": "markdown",
   "metadata": {},
   "source": [
    "**Pandas provides a method, 'drop_duplicates()', that will remove the duplicated rows. Just like the 'duplicated()' method, it has a 'keep' parameter w/ the same options. We'll leave it at the default, which is 'first'.** "
   ]
  },
  {
   "cell_type": "code",
   "execution_count": 10,
   "metadata": {},
   "outputs": [
    {
     "data": {
      "text/html": [
       "<div>\n",
       "<style scoped>\n",
       "    .dataframe tbody tr th:only-of-type {\n",
       "        vertical-align: middle;\n",
       "    }\n",
       "\n",
       "    .dataframe tbody tr th {\n",
       "        vertical-align: top;\n",
       "    }\n",
       "\n",
       "    .dataframe thead th {\n",
       "        text-align: right;\n",
       "    }\n",
       "</style>\n",
       "<table border=\"1\" class=\"dataframe\">\n",
       "  <thead>\n",
       "    <tr style=\"text-align: right;\">\n",
       "      <th></th>\n",
       "      <th>Port Name</th>\n",
       "      <th>State</th>\n",
       "      <th>Port Code</th>\n",
       "      <th>Border</th>\n",
       "      <th>Date</th>\n",
       "      <th>Measure</th>\n",
       "      <th>Value</th>\n",
       "      <th>duplicated</th>\n",
       "    </tr>\n",
       "  </thead>\n",
       "  <tbody>\n",
       "    <tr>\n",
       "      <th>0</th>\n",
       "      <td>Alcan</td>\n",
       "      <td>AK</td>\n",
       "      <td>3104</td>\n",
       "      <td>US-Canada Border</td>\n",
       "      <td>2020-02-01</td>\n",
       "      <td>Personal Vehicle Passengers</td>\n",
       "      <td>1414</td>\n",
       "      <td>False</td>\n",
       "    </tr>\n",
       "    <tr>\n",
       "      <th>1</th>\n",
       "      <td>Alcan</td>\n",
       "      <td>AK</td>\n",
       "      <td>3104</td>\n",
       "      <td>US-Canada Border</td>\n",
       "      <td>2020-02-01</td>\n",
       "      <td>Personal Vehicles</td>\n",
       "      <td>763</td>\n",
       "      <td>False</td>\n",
       "    </tr>\n",
       "    <tr>\n",
       "      <th>2</th>\n",
       "      <td>Alcan</td>\n",
       "      <td>AK</td>\n",
       "      <td>3104</td>\n",
       "      <td>US-Canada Border</td>\n",
       "      <td>2020-02-01</td>\n",
       "      <td>Truck Containers Empty</td>\n",
       "      <td>412</td>\n",
       "      <td>False</td>\n",
       "    </tr>\n",
       "    <tr>\n",
       "      <th>3</th>\n",
       "      <td>Alcan</td>\n",
       "      <td>AK</td>\n",
       "      <td>3104</td>\n",
       "      <td>US-Canada Border</td>\n",
       "      <td>2020-02-01</td>\n",
       "      <td>Truck Containers Full</td>\n",
       "      <td>122</td>\n",
       "      <td>False</td>\n",
       "    </tr>\n",
       "    <tr>\n",
       "      <th>4</th>\n",
       "      <td>Alcan</td>\n",
       "      <td>AK</td>\n",
       "      <td>3104</td>\n",
       "      <td>US-Canada Border</td>\n",
       "      <td>2020-02-01</td>\n",
       "      <td>Trucks</td>\n",
       "      <td>545</td>\n",
       "      <td>False</td>\n",
       "    </tr>\n",
       "  </tbody>\n",
       "</table>\n",
       "</div>"
      ],
      "text/plain": [
       "  Port Name State  Port Code            Border       Date  \\\n",
       "0     Alcan    AK       3104  US-Canada Border 2020-02-01   \n",
       "1     Alcan    AK       3104  US-Canada Border 2020-02-01   \n",
       "2     Alcan    AK       3104  US-Canada Border 2020-02-01   \n",
       "3     Alcan    AK       3104  US-Canada Border 2020-02-01   \n",
       "4     Alcan    AK       3104  US-Canada Border 2020-02-01   \n",
       "\n",
       "                       Measure  Value  duplicated  \n",
       "0  Personal Vehicle Passengers   1414       False  \n",
       "1            Personal Vehicles    763       False  \n",
       "2       Truck Containers Empty    412       False  \n",
       "3        Truck Containers Full    122       False  \n",
       "4                       Trucks    545       False  "
      ]
     },
     "execution_count": 10,
     "metadata": {},
     "output_type": "execute_result"
    }
   ],
   "source": [
    "df_dupes_dropped = df.drop_duplicates()\n",
    "df_dupes_dropped.head()"
   ]
  },
  {
   "cell_type": "markdown",
   "metadata": {},
   "source": [
    "**Let's check the length of the new dataframe to see if we correctly removed the duplicated rows.**"
   ]
  },
  {
   "cell_type": "code",
   "execution_count": 11,
   "metadata": {},
   "outputs": [
    {
     "name": "stdout",
     "output_type": "stream",
     "text": [
      "The number of rows in the dataframe w/ duplicates removed is: 355511\n"
     ]
    }
   ],
   "source": [
    "print(f\"The number of rows in the dataframe w/ duplicates removed is: {len(df_dupes_dropped)}\")"
   ]
  },
  {
   "cell_type": "markdown",
   "metadata": {},
   "source": [
    "      \n",
    "    \n",
    "**Interesting, we still have the same number of rows. How could that be?** \n",
    "  \n",
    "**Remember when we added the duplicated column to the dataframe? Well that made no rows duplicates because in this case there is only one duplicate for each case of duplication and thus after adding a column of True/False, we effectively made all rows unique.**  \n",
    "  \n",
    "**So let's remove that column and then rerun the process.**"
   ]
  },
  {
   "cell_type": "code",
   "execution_count": 12,
   "metadata": {},
   "outputs": [],
   "source": [
    "df_dupes_dropped = df.drop(columns=['duplicated']).drop_duplicates()"
   ]
  },
  {
   "cell_type": "code",
   "execution_count": 15,
   "metadata": {},
   "outputs": [
    {
     "data": {
      "text/html": [
       "<div>\n",
       "<style scoped>\n",
       "    .dataframe tbody tr th:only-of-type {\n",
       "        vertical-align: middle;\n",
       "    }\n",
       "\n",
       "    .dataframe tbody tr th {\n",
       "        vertical-align: top;\n",
       "    }\n",
       "\n",
       "    .dataframe thead th {\n",
       "        text-align: right;\n",
       "    }\n",
       "</style>\n",
       "<table border=\"1\" class=\"dataframe\">\n",
       "  <thead>\n",
       "    <tr style=\"text-align: right;\">\n",
       "      <th></th>\n",
       "      <th>Port Name</th>\n",
       "      <th>State</th>\n",
       "      <th>Port Code</th>\n",
       "      <th>Border</th>\n",
       "      <th>Date</th>\n",
       "      <th>Measure</th>\n",
       "      <th>Value</th>\n",
       "    </tr>\n",
       "  </thead>\n",
       "  <tbody>\n",
       "    <tr>\n",
       "      <th>0</th>\n",
       "      <td>Alcan</td>\n",
       "      <td>AK</td>\n",
       "      <td>3104</td>\n",
       "      <td>US-Canada Border</td>\n",
       "      <td>2020-02-01</td>\n",
       "      <td>Personal Vehicle Passengers</td>\n",
       "      <td>1414</td>\n",
       "    </tr>\n",
       "    <tr>\n",
       "      <th>1</th>\n",
       "      <td>Alcan</td>\n",
       "      <td>AK</td>\n",
       "      <td>3104</td>\n",
       "      <td>US-Canada Border</td>\n",
       "      <td>2020-02-01</td>\n",
       "      <td>Personal Vehicles</td>\n",
       "      <td>763</td>\n",
       "    </tr>\n",
       "    <tr>\n",
       "      <th>2</th>\n",
       "      <td>Alcan</td>\n",
       "      <td>AK</td>\n",
       "      <td>3104</td>\n",
       "      <td>US-Canada Border</td>\n",
       "      <td>2020-02-01</td>\n",
       "      <td>Truck Containers Empty</td>\n",
       "      <td>412</td>\n",
       "    </tr>\n",
       "    <tr>\n",
       "      <th>3</th>\n",
       "      <td>Alcan</td>\n",
       "      <td>AK</td>\n",
       "      <td>3104</td>\n",
       "      <td>US-Canada Border</td>\n",
       "      <td>2020-02-01</td>\n",
       "      <td>Truck Containers Full</td>\n",
       "      <td>122</td>\n",
       "    </tr>\n",
       "    <tr>\n",
       "      <th>4</th>\n",
       "      <td>Alcan</td>\n",
       "      <td>AK</td>\n",
       "      <td>3104</td>\n",
       "      <td>US-Canada Border</td>\n",
       "      <td>2020-02-01</td>\n",
       "      <td>Trucks</td>\n",
       "      <td>545</td>\n",
       "    </tr>\n",
       "  </tbody>\n",
       "</table>\n",
       "</div>"
      ],
      "text/plain": [
       "  Port Name State  Port Code            Border       Date  \\\n",
       "0     Alcan    AK       3104  US-Canada Border 2020-02-01   \n",
       "1     Alcan    AK       3104  US-Canada Border 2020-02-01   \n",
       "2     Alcan    AK       3104  US-Canada Border 2020-02-01   \n",
       "3     Alcan    AK       3104  US-Canada Border 2020-02-01   \n",
       "4     Alcan    AK       3104  US-Canada Border 2020-02-01   \n",
       "\n",
       "                       Measure  Value  \n",
       "0  Personal Vehicle Passengers   1414  \n",
       "1            Personal Vehicles    763  \n",
       "2       Truck Containers Empty    412  \n",
       "3        Truck Containers Full    122  \n",
       "4                       Trucks    545  "
      ]
     },
     "execution_count": 15,
     "metadata": {},
     "output_type": "execute_result"
    }
   ],
   "source": [
    "df_dupes_dropped.head()"
   ]
  },
  {
   "cell_type": "code",
   "execution_count": 13,
   "metadata": {},
   "outputs": [
    {
     "name": "stdout",
     "output_type": "stream",
     "text": [
      "The number of rows in the dataframe w/ duplicates removed is: 355501\n"
     ]
    }
   ],
   "source": [
    "print(f\"The number of rows in the dataframe w/ duplicates removed is: {len(df_dupes_dropped)}\")"
   ]
  },
  {
   "cell_type": "markdown",
   "metadata": {},
   "source": [
    "**Here we see the result we expected. Let's just confirm by returning the unique values of running 'duplicated()' on the new dataframe, which should return only False.**"
   ]
  },
  {
   "cell_type": "code",
   "execution_count": 14,
   "metadata": {},
   "outputs": [
    {
     "data": {
      "text/plain": [
       "array([False])"
      ]
     },
     "execution_count": 14,
     "metadata": {},
     "output_type": "execute_result"
    }
   ],
   "source": [
    "df_dupes_dropped.duplicated().unique()"
   ]
  },
  {
   "cell_type": "code",
   "execution_count": 17,
   "metadata": {},
   "outputs": [],
   "source": [
    "df_dupes_dropped.to_csv('Border_Crossing_Data_no_duplicates.csv', index=False)"
   ]
  },
  {
   "cell_type": "code",
   "execution_count": null,
   "metadata": {},
   "outputs": [],
   "source": []
  }
 ],
 "metadata": {
  "kernelspec": {
   "display_name": "Python 3.7.4 64-bit ('base': conda)",
   "language": "python",
   "name": "python37464bitbaseconda68e905bc638043beabf2e502caa344b2"
  },
  "language_info": {
   "codemirror_mode": {
    "name": "ipython",
    "version": 3
   },
   "file_extension": ".py",
   "mimetype": "text/x-python",
   "name": "python",
   "nbconvert_exporter": "python",
   "pygments_lexer": "ipython3",
   "version": "3.7.7"
  }
 },
 "nbformat": 4,
 "nbformat_minor": 4
}
